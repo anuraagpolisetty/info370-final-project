{
 "cells": [
  {
   "cell_type": "code",
   "execution_count": 1,
   "metadata": {},
   "outputs": [],
   "source": [
    "import prep as p\n",
    "import matplotlib.pyplot as plt"
   ]
  },
  {
   "cell_type": "code",
   "execution_count": null,
   "metadata": {
    "scrolled": false
   },
   "outputs": [],
   "source": [
    "# Data Preparation and Cleaning\n",
    "df = p.prepared_df()\n",
    "df.head()"
   ]
  },
  {
   "cell_type": "code",
   "execution_count": null,
   "metadata": {},
   "outputs": [],
   "source": [
    "plt.figure(figsize=(12,8))\n",
    "goalkeepers = df[df.num_position == 0]\n",
    "fielders = df[df.num_position != 0]\n",
    "plt.scatter(goalkeepers['total_stats'] * 5, goalkeepers['norm_wage'])\n",
    "plt.scatter(fielders['total_stats'], fielders['norm_wage'], alpha=.2)"
   ]
  },
  {
   "cell_type": "code",
   "execution_count": null,
   "metadata": {},
   "outputs": [],
   "source": [
    "plt.figure(figsize=(12,8))\n",
    "plt.scatter(df['norm_value'], df['norm_wage'])"
   ]
  },
  {
   "cell_type": "code",
   "execution_count": null,
   "metadata": {},
   "outputs": [],
   "source": [
    "plt.figure(figsize=(12,8))\n",
    "right = df[df.power_foot_num == 0]\n",
    "left = df[df.power_foot_num == 1]\n",
    "print(len(right))\n",
    "print(len(left))\n",
    "plt.scatter(right['total_stats'], right['norm_wage'],color='green', alpha=.4, label='Right Foot')\n",
    "plt.scatter(left['total_stats'], left['norm_wage'],color='orange', alpha=.3, label='Left Foot')\n",
    "plt.legend()"
   ]
  },
  {
   "cell_type": "code",
   "execution_count": null,
   "metadata": {},
   "outputs": [],
   "source": [
    "countries = df.groupby('Nationality')\n",
    "countries.size()"
   ]
  }
 ],
 "metadata": {
  "kernelspec": {
   "display_name": "Python 3",
   "language": "python",
   "name": "python3"
  },
  "language_info": {
   "codemirror_mode": {
    "name": "ipython",
    "version": 3
   },
   "file_extension": ".py",
   "mimetype": "text/x-python",
   "name": "python",
   "nbconvert_exporter": "python",
   "pygments_lexer": "ipython3",
   "version": "3.7.1"
  }
 },
 "nbformat": 4,
 "nbformat_minor": 2
}
